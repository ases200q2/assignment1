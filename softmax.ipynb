{
 "cells": [
  {
   "cell_type": "markdown",
   "metadata": {},
   "source": [
    "# Softmax exercise\n",
    "\n",
    "*Complete and hand in this completed worksheet (including its outputs and any supporting code outside of the worksheet) with your assignment submission. For more details see the [assignments page](http://vision.stanford.edu/teaching/cs231n/assignments.html) on the course website.*\n",
    "\n",
    "This exercise is analogous to the SVM exercise. You will:\n",
    "\n",
    "- implement a fully-vectorized **loss function** for the Softmax classifier\n",
    "- implement the fully-vectorized expression for its **analytic gradient**\n",
    "- **check your implementation** with numerical gradient\n",
    "- use a validation set to **tune the learning rate and regularization** strength\n",
    "- **optimize** the loss function with **SGD**\n",
    "- **visualize** the final learned weights\n"
   ]
  },
  {
   "cell_type": "code",
   "execution_count": 1,
   "metadata": {
    "collapsed": false
   },
   "outputs": [],
   "source": [
    "import random\n",
    "import numpy as np\n",
    "from cs231n.data_utils import load_CIFAR10\n",
    "import matplotlib.pyplot as plt\n",
    "%matplotlib inline\n",
    "plt.rcParams['figure.figsize'] = (10.0, 8.0) # set default size of plots\n",
    "plt.rcParams['image.interpolation'] = 'nearest'\n",
    "plt.rcParams['image.cmap'] = 'gray'\n",
    "\n",
    "# for auto-reloading extenrnal modules\n",
    "# see http://stackoverflow.com/questions/1907993/autoreload-of-modules-in-ipython\n",
    "%load_ext autoreload\n",
    "%autoreload 2"
   ]
  },
  {
   "cell_type": "code",
   "execution_count": 2,
   "metadata": {
    "collapsed": false
   },
   "outputs": [
    {
     "name": "stdout",
     "output_type": "stream",
     "text": [
      "Train data shape:  (49000, 3073)\n",
      "Train labels shape:  (49000,)\n",
      "Validation data shape:  (1000, 3073)\n",
      "Validation labels shape:  (1000,)\n",
      "Test data shape:  (1000, 3073)\n",
      "Test labels shape:  (1000,)\n",
      "dev data shape:  (500, 3073)\n",
      "dev labels shape:  (500,)\n"
     ]
    }
   ],
   "source": [
    "def get_CIFAR10_data(num_training=49000, num_validation=1000, num_test=1000, num_dev=500):\n",
    "  \"\"\"\n",
    "  Load the CIFAR-10 dataset from disk and perform preprocessing to prepare\n",
    "  it for the linear classifier. These are the same steps as we used for the\n",
    "  SVM, but condensed to a single function.  \n",
    "  \"\"\"\n",
    "  # Load the raw CIFAR-10 data\n",
    "  cifar10_dir = 'cs231n/datasets/cifar-10-batches-py'\n",
    "  X_train, y_train, X_test, y_test = load_CIFAR10(cifar10_dir)\n",
    "  \n",
    "  # subsample the data\n",
    "  mask = range(num_training, num_training + num_validation)\n",
    "  X_val = X_train[mask]\n",
    "  y_val = y_train[mask]\n",
    "  mask = range(num_training)\n",
    "  X_train = X_train[mask]\n",
    "  y_train = y_train[mask]\n",
    "  mask = range(num_test)\n",
    "  X_test = X_test[mask]\n",
    "  y_test = y_test[mask]\n",
    "  mask = np.random.choice(num_training, num_dev, replace=False)\n",
    "  X_dev = X_train[mask]\n",
    "  y_dev = y_train[mask]\n",
    "  \n",
    "  # Preprocessing: reshape the image data into rows\n",
    "  X_train = np.reshape(X_train, (X_train.shape[0], -1))\n",
    "  X_val = np.reshape(X_val, (X_val.shape[0], -1))\n",
    "  X_test = np.reshape(X_test, (X_test.shape[0], -1))\n",
    "  X_dev = np.reshape(X_dev, (X_dev.shape[0], -1))\n",
    "  \n",
    "  # Normalize the data: subtract the mean image\n",
    "  mean_image = np.mean(X_train, axis = 0)\n",
    "  X_train -= mean_image\n",
    "  X_val -= mean_image\n",
    "  X_test -= mean_image\n",
    "  X_dev -= mean_image\n",
    "  \n",
    "  # add bias dimension and transform into columns\n",
    "  X_train = np.hstack([X_train, np.ones((X_train.shape[0], 1))])\n",
    "  X_val = np.hstack([X_val, np.ones((X_val.shape[0], 1))])\n",
    "  X_test = np.hstack([X_test, np.ones((X_test.shape[0], 1))])\n",
    "  X_dev = np.hstack([X_dev, np.ones((X_dev.shape[0], 1))])\n",
    "  \n",
    "  return X_train, y_train, X_val, y_val, X_test, y_test, X_dev, y_dev\n",
    "\n",
    "\n",
    "# Invoke the above function to get our data.\n",
    "X_train, y_train, X_val, y_val, X_test, y_test, X_dev, y_dev = get_CIFAR10_data()\n",
    "print 'Train data shape: ', X_train.shape\n",
    "print 'Train labels shape: ', y_train.shape\n",
    "print 'Validation data shape: ', X_val.shape\n",
    "print 'Validation labels shape: ', y_val.shape\n",
    "print 'Test data shape: ', X_test.shape\n",
    "print 'Test labels shape: ', y_test.shape\n",
    "print 'dev data shape: ', X_dev.shape\n",
    "print 'dev labels shape: ', y_dev.shape"
   ]
  },
  {
   "cell_type": "markdown",
   "metadata": {},
   "source": [
    "## Softmax Classifier\n",
    "\n",
    "Your code for this section will all be written inside **cs231n/classifiers/softmax.py**. \n"
   ]
  },
  {
   "cell_type": "code",
   "execution_count": 11,
   "metadata": {
    "collapsed": false
   },
   "outputs": [
    {
     "name": "stdout",
     "output_type": "stream",
     "text": [
      "loss: 2.316504\n",
      "sanity check: 2.302585\n"
     ]
    }
   ],
   "source": [
    "# First implement the naive softmax loss function with nested loops.\n",
    "# Open the file cs231n/classifiers/softmax.py and implement the\n",
    "# softmax_loss_naive function.\n",
    "\n",
    "from cs231n.classifiers.softmax import softmax_loss_naive\n",
    "import time\n",
    "\n",
    "# Generate a random softmax weight matrix and use it to compute the loss.\n",
    "W = np.random.randn(3073, 10) * 0.0001\n",
    "loss, grad = softmax_loss_naive(W, X_dev, y_dev, 0.0)\n",
    "\n",
    "# As a rough sanity check, our loss should be something close to -log(0.1).\n",
    "print 'loss: %f' % loss\n",
    "print 'sanity check: %f' % (-np.log(0.1))"
   ]
  },
  {
   "cell_type": "markdown",
   "metadata": {},
   "source": [
    "## Inline Question 1:\n",
    "Why do we expect our loss to be close to -log(0.1)? Explain briefly.**\n",
    "\n",
    "**Your answer:** *Fill this in*\n"
   ]
  },
  {
   "cell_type": "code",
   "execution_count": 16,
   "metadata": {
    "collapsed": false
   },
   "outputs": [
    {
     "name": "stdout",
     "output_type": "stream",
     "text": [
      "numerical: -0.985993 analytic: -0.985993, relative error: 2.699730e-08\n",
      "numerical: 0.378323 analytic: 0.378323, relative error: 1.738025e-07\n",
      "numerical: -0.647659 analytic: -0.647659, relative error: 9.880786e-08\n",
      "numerical: -1.059747 analytic: -1.059747, relative error: 1.472115e-08\n",
      "numerical: -0.069152 analytic: -0.069152, relative error: 2.918124e-07\n",
      "numerical: 0.447880 analytic: 0.447880, relative error: 6.446958e-08\n",
      "numerical: 0.799214 analytic: 0.799214, relative error: 8.083985e-08\n",
      "numerical: 0.153337 analytic: 0.153337, relative error: 6.280372e-07\n",
      "numerical: -1.885018 analytic: -1.885018, relative error: 6.941329e-08\n",
      "numerical: 2.193866 analytic: 2.193866, relative error: 2.516121e-08\n",
      "numerical: 0.396252 analytic: 0.396252, relative error: 5.547408e-08\n",
      "numerical: 0.320196 analytic: 0.320196, relative error: 2.014893e-07\n",
      "numerical: -0.285786 analytic: -0.285786, relative error: 7.836937e-08\n",
      "numerical: 1.310534 analytic: 1.310534, relative error: 1.167171e-08\n",
      "numerical: 2.608359 analytic: 2.608359, relative error: 6.403361e-09\n",
      "numerical: -3.147200 analytic: -3.147200, relative error: 1.562354e-08\n",
      "numerical: 0.424012 analytic: 0.424012, relative error: 1.194432e-07\n",
      "numerical: 0.039502 analytic: 0.039502, relative error: 1.844922e-06\n",
      "numerical: -1.088555 analytic: -1.088555, relative error: 2.541189e-08\n",
      "numerical: 1.147725 analytic: 1.147725, relative error: 4.414455e-08\n"
     ]
    }
   ],
   "source": [
    "# Complete the implementation of softmax_loss_naive and implement a (naive)\n",
    "# version of the gradient that uses nested loops.\n",
    "loss, grad = softmax_loss_naive(W, X_dev, y_dev, 0.0)\n",
    "\n",
    "# As we did for the SVM, use numeric gradient checking as a debugging tool.\n",
    "# The numeric gradient should be close to the analytic gradient.\n",
    "from cs231n.gradient_check import grad_check_sparse\n",
    "f = lambda w: softmax_loss_naive(w, X_dev, y_dev, 0.0)[0]\n",
    "grad_numerical = grad_check_sparse(f, W, grad, 10)\n",
    "\n",
    "# similar to SVM case, do another gradient check with regularization\n",
    "loss, grad = softmax_loss_naive(W, X_dev, y_dev, 1e2)\n",
    "f = lambda w: softmax_loss_naive(w, X_dev, y_dev, 1e2)[0]\n",
    "grad_numerical = grad_check_sparse(f, W, grad, 10)"
   ]
  },
  {
   "cell_type": "code",
   "execution_count": 23,
   "metadata": {
    "collapsed": false
   },
   "outputs": [
    {
     "name": "stdout",
     "output_type": "stream",
     "text": [
      "naive loss: 2.316504e+00 computed in 0.087538s\n",
      "vectorized loss: 2.316504e+00 computed in 0.008791s\n",
      "Loss difference: 0.000000\n",
      "Gradient difference: 0.000000\n"
     ]
    }
   ],
   "source": [
    "# Now that we have a naive implementation of the softmax loss function and its gradient,\n",
    "# implement a vectorized version in softmax_loss_vectorized.\n",
    "# The two versions should compute the same results, but the vectorized version should be\n",
    "# much faster.\n",
    "tic = time.time()\n",
    "loss_naive, grad_naive = softmax_loss_naive(W, X_dev, y_dev, 0.00001)\n",
    "toc = time.time()\n",
    "print 'naive loss: %e computed in %fs' % (loss_naive, toc - tic)\n",
    "\n",
    "from cs231n.classifiers.softmax import softmax_loss_vectorized\n",
    "tic = time.time()\n",
    "loss_vectorized, grad_vectorized = softmax_loss_vectorized(W, X_dev, y_dev, 0.00001)\n",
    "toc = time.time()\n",
    "print 'vectorized loss: %e computed in %fs' % (loss_vectorized, toc - tic)\n",
    "\n",
    "# As we did for the SVM, we use the Frobenius norm to compare the two versions\n",
    "# of the gradient.\n",
    "grad_difference = np.linalg.norm(grad_naive - grad_vectorized, ord='fro')\n",
    "print 'Loss difference: %f' % np.abs(loss_naive - loss_vectorized)\n",
    "print 'Gradient difference: %f' % grad_difference"
   ]
  },
  {
   "cell_type": "code",
   "execution_count": 29,
   "metadata": {
    "collapsed": false
   },
   "outputs": [
    {
     "name": "stdout",
     "output_type": "stream",
     "text": [
      "iteration 0 / 1000: loss 767.864854\n",
      "0.00764095950455\n",
      "iteration 100 / 1000: loss 7.565835\n",
      "5.80643676076e-05\n",
      "iteration 200 / 1000: loss 8.382313\n",
      "7.79260517745e-05\n",
      "iteration 300 / 1000: loss 6.610396\n",
      "8.10028630133e-05\n",
      "iteration 400 / 1000: loss 9.200068\n",
      "8.17343501224e-05\n",
      "iteration 500 / 1000: loss 8.790033\n",
      "3.97831668175e-05\n",
      "iteration 600 / 1000: loss 5.730261\n",
      "6.99244476349e-05\n",
      "iteration 700 / 1000: loss 7.386861\n",
      "8.00925387015e-05\n",
      "iteration 800 / 1000: loss 6.799817\n",
      "6.29370699181e-05\n",
      "iteration 900 / 1000: loss 6.685949\n",
      "7.38948679946e-05\n",
      "iteration 0 / 1000: loss 13.453077\n",
      "0.0303537625636\n",
      "iteration 100 / 1000: loss 5.473941\n",
      "0.0107747045417\n",
      "iteration 200 / 1000: loss 3.200366\n",
      "0.00411705098692\n",
      "iteration 300 / 1000: loss 3.283934\n",
      "0.00172005813215\n",
      "iteration 400 / 1000: loss 3.946537\n",
      "0.000918676017582\n",
      "iteration 500 / 1000: loss 3.030155\n",
      "0.000619449869528\n",
      "iteration 600 / 1000: loss 3.413419\n",
      "0.000512648133602\n",
      "iteration 700 / 1000: loss 3.873368\n",
      "0.000475494338936\n",
      "iteration 800 / 1000: loss 2.703937\n",
      "0.000441723097705\n",
      "iteration 900 / 1000: loss 3.375451\n",
      "0.000423995720343\n",
      "iteration 0 / 1000: loss 783.849505\n",
      "0.029509576609\n",
      "iteration 100 / 1000: loss 6.902612\n",
      "0.000187669145602\n",
      "iteration 200 / 1000: loss 2.105765\n",
      "4.80385373006e-06\n",
      "iteration 300 / 1000: loss 2.114102\n",
      "3.55983567115e-06\n",
      "iteration 400 / 1000: loss 2.166393\n",
      "3.54266108224e-06\n",
      "iteration 500 / 1000: loss 2.127404\n",
      "3.59991435466e-06\n",
      "iteration 600 / 1000: loss 2.071015\n",
      "3.71881539112e-06\n",
      "iteration 700 / 1000: loss 2.076952\n",
      "3.51590202757e-06\n",
      "iteration 800 / 1000: loss 2.096980\n",
      "3.74236852202e-06\n",
      "iteration 900 / 1000: loss 2.096466\n",
      "3.66323626714e-06\n",
      "iteration 0 / 1000: loss 14.077231\n",
      "0.0308444018821\n",
      "iteration 100 / 1000: loss 10.213825\n",
      "0.0291185838438\n",
      "iteration 200 / 1000: loss 9.501418\n",
      "0.027559913801\n",
      "iteration 300 / 1000: loss 9.085164\n",
      "0.0261023404616\n",
      "iteration 400 / 1000: loss 8.389533\n",
      "0.024733684655\n",
      "iteration 500 / 1000: loss 8.350469\n",
      "0.0234459768252\n",
      "iteration 600 / 1000: loss 7.652141\n",
      "0.0222295450769\n",
      "iteration 700 / 1000: loss 7.381536\n",
      "0.0210782303107\n",
      "iteration 800 / 1000: loss 7.129203\n",
      "0.0199918380061\n",
      "iteration 900 / 1000: loss 6.907961\n",
      "0.0189654471209\n",
      "lr 5.000000e-07 reg 5.000000e+02 train accuracy: 0.318306 val accuracy: 0.312000\n",
      "lr 5.000000e-07 reg 5.000000e+04 train accuracy: 0.328388 val accuracy: 0.341000\n",
      "lr 1.000000e-05 reg 5.000000e+02 train accuracy: 0.320633 val accuracy: 0.347000\n",
      "lr 1.000000e-05 reg 5.000000e+04 train accuracy: 0.099449 val accuracy: 0.089000\n",
      "best validation accuracy achieved during cross-validation: 0.347000\n"
     ]
    }
   ],
   "source": [
    "# Use the validation set to tune hyperparameters (regularization strength and\n",
    "# learning rate). You should experiment with different ranges for the learning\n",
    "# rates and regularization strengths; if you are careful you should be able to\n",
    "# get a classification accuracy of over 0.35 on the validation set.\n",
    "from cs231n.classifiers import Softmax\n",
    "results = {}\n",
    "best_val = -1\n",
    "best_softmax = None\n",
    "learning_rates = [1e-5, 5e-7]\n",
    "regularization_strengths = [5e4, 5e2]\n",
    "\n",
    "################################################################################\n",
    "# TODO:                                                                        #\n",
    "# Use the validation set to set the learning rate and regularization strength. #\n",
    "# This should be identical to the validation that you did for the SVM; save    #\n",
    "# the best trained softmax classifer in best_softmax.                          #\n",
    "################################################################################\n",
    "for l in (learning_rates):\n",
    "    for r in (regularization_strengths):\n",
    "        softmax = Softmax()\n",
    "        softmax.train(X_train, y_train, learning_rate=l, reg=r,\n",
    "                      num_iters=1000, verbose=True)\n",
    "        y_train_pred = softmax.predict(X_train)\n",
    "        y_val_pred = softmax.predict(X_val)\n",
    "        acurracy_train=(np.mean(y_train == y_train_pred))\n",
    "        acurracy_val=(np.mean(y_val == y_val_pred))\n",
    "        results[l,r]=[acurracy_train, acurracy_val]\n",
    "        if(acurracy_val>best_val):\n",
    "            best_val=acurracy_val\n",
    "            best_softmax=softmax\n",
    "\n",
    "################################################################################\n",
    "#                              END OF YOUR CODE                                #\n",
    "################################################################################\n",
    "    \n",
    "# Print out results.\n",
    "for lr, reg in sorted(results):\n",
    "    train_accuracy, val_accuracy = results[(lr, reg)]\n",
    "    print 'lr %e reg %e train accuracy: %f val accuracy: %f' % (\n",
    "                lr, reg, train_accuracy, val_accuracy)\n",
    "    \n",
    "print 'best validation accuracy achieved during cross-validation: %f' % best_val"
   ]
  },
  {
   "cell_type": "code",
   "execution_count": 30,
   "metadata": {
    "collapsed": false
   },
   "outputs": [
    {
     "name": "stdout",
     "output_type": "stream",
     "text": [
      "softmax on raw pixels final test set accuracy: 0.317000\n"
     ]
    }
   ],
   "source": [
    "# evaluate on test set\n",
    "# Evaluate the best softmax on test set\n",
    "y_test_pred = best_softmax.predict(X_test)\n",
    "test_accuracy = np.mean(y_test == y_test_pred)\n",
    "print 'softmax on raw pixels final test set accuracy: %f' % (test_accuracy, )"
   ]
  },
  {
   "cell_type": "code",
   "execution_count": 31,
   "metadata": {
    "collapsed": false
   },
   "outputs": [
    {
     "data": {
      "image/png": "[encoded data removed]",
      "text/plain": [
       "<matplotlib.figure.Figure at 0x108987850>"
      ]
     },
     "metadata": {},
     "output_type": "display_data"
    }
   ],
   "source": [
    "# Visualize the learned weights for each class\n",
    "w = best_softmax.W[:-1,:] # strip out the bias\n",
    "w = w.reshape(32, 32, 3, 10)\n",
    "\n",
    "w_min, w_max = np.min(w), np.max(w)\n",
    "\n",
    "classes = ['plane', 'car', 'bird', 'cat', 'deer', 'dog', 'frog', 'horse', 'ship', 'truck']\n",
    "for i in xrange(10):\n",
    "  plt.subplot(2, 5, i + 1)\n",
    "  \n",
    "  # Rescale the weights to be between 0 and 255\n",
    "  wimg = 255.0 * (w[:, :, :, i].squeeze() - w_min) / (w_max - w_min)\n",
    "  plt.imshow(wimg.astype('uint8'))\n",
    "  plt.axis('off')\n",
    "  plt.title(classes[i])"
   ]
  },
  {
   "cell_type": "code",
   "execution_count": null,
   "metadata": {
    "collapsed": true
   },
   "outputs": [],
   "source": []
  }
 ],
 "metadata": {
  "kernelspec": {
   "display_name": "Python 2",
   "language": "python",
   "name": "python2"
  },
  "language_info": {
   "codemirror_mode": {
    "name": "ipython",
    "version": 2
   },
   "file_extension": ".py",
   "mimetype": "text/x-python",
   "name": "python",
   "nbconvert_exporter": "python",
   "pygments_lexer": "ipython2",
   "version": "2.7.5"
  }
 },
 "nbformat": 4,
 "nbformat_minor": 0
}
